{
  "nbformat": 4,
  "nbformat_minor": 0,
  "metadata": {
    "colab": {
      "name": "The Perfect Job.ipynb",
      "provenance": [],
      "collapsed_sections": [],
      "authorship_tag": "ABX9TyMKi8wSjqCeSRPGifrdd/yH",
      "include_colab_link": true
    },
    "kernelspec": {
      "name": "python3",
      "display_name": "Python 3"
    }
  },
  "cells": [
    {
      "cell_type": "markdown",
      "metadata": {
        "id": "view-in-github",
        "colab_type": "text"
      },
      "source": [
        "<a href=\"https://colab.research.google.com/github/PranavKumarAV/The-Perfect-Job/blob/main/The_Perfect_Job.ipynb\" target=\"_parent\"><img src=\"https://colab.research.google.com/assets/colab-badge.svg\" alt=\"Open In Colab\"/></a>"
      ]
    },
    {
      "cell_type": "code",
      "metadata": {
        "id": "UGIdqlrFvWd0"
      },
      "source": [
        "# Importing all the required libraries\n",
        "from csv import reader\n",
        "from math import sqrt\n",
        "import pandas as pd\n",
        "import numpy as np\n",
        "import matplotlib\n",
        "import matplotlib.pyplot as plt\n",
        "from sklearn.decomposition import PCA\n",
        "from sklearn.model_selection import train_test_split\n",
        "import seaborn"
      ],
      "execution_count": null,
      "outputs": []
    },
    {
      "cell_type": "code",
      "metadata": {
        "colab": {
          "base_uri": "https://localhost:8080/"
        },
        "id": "ZlMdUdXUvi57",
        "outputId": "531a044e-7cb1-4638-a01a-220c562da7a8"
      },
      "source": [
        "!gdown --id 1BWl6uXuorD2ZGvkGb81TkgdjHqhReU0o      #Importing the file from my google drive"
      ],
      "execution_count": null,
      "outputs": [
        {
          "output_type": "stream",
          "text": [
            "Downloading...\n",
            "From: https://drive.google.com/uc?id=1BWl6uXuorD2ZGvkGb81TkgdjHqhReU0o\n",
            "To: /content/Final_Data.csv\n",
            "\r  0% 0.00/10.5k [00:00<?, ?B/s]\r100% 10.5k/10.5k [00:00<00:00, 22.3MB/s]\n"
          ],
          "name": "stdout"
        }
      ]
    },
    {
      "cell_type": "code",
      "metadata": {
        "id": "K-WyBfhBvkcF"
      },
      "source": [
        "# Reading the CSV file\n",
        "def load_csv(filename):\n",
        "\tX = []\n",
        "\twith open(filename, 'r') as file:\n",
        "\t\tcsv_reader = reader(file)\n",
        "\t\tfor i in csv_reader:\n",
        "\t\t\tif not i:\n",
        "\t\t\t\tcontinue\n",
        "\t\t\tX.append(i)\n",
        "\treturn X"
      ],
      "execution_count": null,
      "outputs": []
    },
    {
      "cell_type": "code",
      "metadata": {
        "id": "ckAkEKMQvmKe"
      },
      "source": [
        "# Convert Input column to float\n",
        "def input_col(X, n):\n",
        "\tfor i in X:\n",
        "\t\ti[n] = float(i[n].strip())          # Removing all the White spaces in all rows of the particular column and to convert to float\n",
        "\n",
        "# Convert Output column to integer\n",
        "def output_col(X, n):\n",
        "  class_values = [i[n] for i in X]      #Getting all the Class Values\n",
        "  unique = set(class_values)            #Getting all the unique Class names\n",
        "  global class_names\n",
        "  class_names = {}                      #class_names stores the Class names and its corresponding number\n",
        "  for i, value in enumerate(unique):    #Assigning values in class_names\n",
        "    class_names[value] = i\n",
        "  for i in X:                           #Converting Class names to its corresponding number\n",
        "    i[n] = class_names[i[n]]\n",
        "  return class_names                    #Returning the class names"
      ],
      "execution_count": null,
      "outputs": []
    },
    {
      "cell_type": "code",
      "metadata": {
        "id": "omw_Q_fEvoAQ"
      },
      "source": [
        "# Calculate the Euclidean distance between two vectors\n",
        "def calc_distance(test, train):\n",
        "\tdist = 0.0                            #This represents the distance between the 2 rows\n",
        "\tfor i in range(len(test)-1):          #Calculating distance\n",
        "\t\tdist += (test[i] - train[i])**2\n",
        "\treturn sqrt(dist)                     #Returning the root of the distance value\n",
        "\n",
        "#Getting the neighbors of the particular Row\n",
        "def neighbors(train, test, num_neighbors):\n",
        "  distance = []\n",
        "  for row in train:\n",
        "    dist = calc_distance(test, row)      #Calculating Euclidian distances\n",
        "    distance.append([row[-1], dist])     #Appending the distance with its corresponding class number\n",
        "  distance.sort(key=lambda x: x[1])      #Sorting \"distances\" based on its euclidian distance\n",
        "  neighbors = []\n",
        "  for i in range(num_neighbors):         #Saving only the n closest variables\n",
        "    neighbors.append(distance[i][0])\n",
        "  return neighbors"
      ],
      "execution_count": null,
      "outputs": []
    },
    {
      "cell_type": "code",
      "metadata": {
        "id": "J5TQreyOvpl1"
      },
      "source": [
        "#Predicting the Classes\n",
        "def prediction(train, test_row, num_neighbors):\n",
        "  neigh = neighbors(train, test_row, num_neighbors)    #Calculating the n closest neighbors\n",
        "  predict = max(set(neigh), key=neigh.count)           #Obtaining the Maximum neighbor Class  \n",
        "  return predict\n",
        "\n",
        "#Testing the Model\n",
        "def testing(X_train, X_test, y_test, num_neighbors):\n",
        "  y_hat = []                                           #Will hold the Predicted class\n",
        "  for row in X_test:                                   #To predict each data with our model\n",
        "    label = prediction(X_train, row, num_neighbors)\n",
        "    y_hat.append(label)\n",
        "  y_tested = [i-j for i,j in zip(y_test,y_hat)]        #Subtracting Predicted value with actual value\n",
        "  true_val = y_tested.count(0)                         #Checking how many are Predicted correctly\n",
        "  tot_val = len(y_test)\n",
        "  acc = (true_val/tot_val)*100                         #Calculating the Accuracy\n",
        "  print(\"Accuracy of the model in testing is : {}\".format(acc))"
      ],
      "execution_count": null,
      "outputs": []
    },
    {
      "cell_type": "code",
      "metadata": {
        "id": "AfrXiAjDvrmA"
      },
      "source": [
        "#Getting the data\n",
        "filename = 'Final_Data.csv'                \n",
        "dataset = load_csv(filename)                #Importing the file for Predicting\n",
        "\n",
        "#Getting only the values from the data \n",
        "X=[]\n",
        "for i in range(len(dataset)-1):             #Storing the dataset in list format\n",
        "  X.append(dataset[i+1][1:])\n",
        "\n",
        "for i in range(len(X[0])-1):                #Converting numbers to float\n",
        "  input_col(X, i)\n",
        "  \n",
        "output_col(X, len(X[0])-1)                  #convert class column to integers\n",
        "\n",
        "num_neighbors = 5                           # define model parameter"
      ],
      "execution_count": null,
      "outputs": []
    },
    {
      "cell_type": "code",
      "metadata": {
        "id": "B9Js-1vyvtMk"
      },
      "source": [
        "test = pd.read_csv(filename)                #Importing same data in different data structure for plotting\n",
        "\n",
        "XX = test.loc[:,'Coding':'Electronics']     #Seperating Input and Output data for plotting\n",
        "YY = test.loc[:,'Y']\n",
        "\n",
        "#Converting Class names to Values for Testing\n",
        "Y_values=[]\n",
        "for i in YY:\n",
        "  if i =='Technician':\n",
        "    i=class_names[i]\n",
        "  if i =='Customer Care':\n",
        "    i=class_names[i]\n",
        "  if i =='Software':\n",
        "    i=class_names[i]\n",
        "  if i =='Receptionist':\n",
        "    i=class_names[i]\n",
        "  if i =='Management':\n",
        "    i=class_names[i]\n",
        "  Y_values.append(i)"
      ],
      "execution_count": null,
      "outputs": []
    },
    {
      "cell_type": "code",
      "metadata": {
        "id": "elZVHpnevvZM"
      },
      "source": [
        "#Separating the datas to train and test data\n",
        "X_train, X_test, y_train, y_test = train_test_split(XX, Y_values, test_size = 0.3)\n",
        "\n",
        "#Converting from Pandas DataFrame to List\n",
        "X_train,X_test = X_train.values.tolist(),X_test.values.tolist()\n",
        "\n",
        "#Combining X and Y datas of training\n",
        "X_y_train = []\n",
        "for i,j in zip(X_train,y_train):\n",
        "  i.append(j)\n",
        "  X_y_train.append(i)"
      ],
      "execution_count": null,
      "outputs": []
    },
    {
      "cell_type": "code",
      "metadata": {
        "colab": {
          "base_uri": "https://localhost:8080/"
        },
        "id": "tDZunYa0vxVe",
        "outputId": "e79c1cb1-69c9-48c3-a535-bd75f011b201"
      },
      "source": [
        "#Testing the Model\n",
        "Metrices = testing(X_y_train,X_test,y_test,num_neighbors)"
      ],
      "execution_count": null,
      "outputs": [
        {
          "output_type": "stream",
          "text": [
            "Accuracy of the model in testing is : 100.0\n"
          ],
          "name": "stdout"
        }
      ]
    },
    {
      "cell_type": "code",
      "metadata": {
        "colab": {
          "base_uri": "https://localhost:8080/",
          "height": 204
        },
        "id": "DjTS9tcvvzCG",
        "outputId": "381dfa43-361a-44f2-d299-165d471cddb7"
      },
      "source": [
        "pca_datas = PCA(n_components=2)             #Doing Dimensionality Reduction to plot \n",
        "pca_plot = pca_datas.fit_transform(XX)      #Fitting the data to plot\n",
        "\n",
        "#Naming the columns of reduced data\n",
        "pca_plot_Df = pd.DataFrame(data = pca_plot, columns = ['Principal Component 1', 'Principal Component 2'])\n",
        "pca_plot_Df['y'] = YY                       #Including Y values in reduced data\n",
        "\n",
        "pca_plot_Df.head()                          #Printing the 1st four values of Plotting data"
      ],
      "execution_count": null,
      "outputs": [
        {
          "output_type": "execute_result",
          "data": {
            "text/html": [
              "<div>\n",
              "<style scoped>\n",
              "    .dataframe tbody tr th:only-of-type {\n",
              "        vertical-align: middle;\n",
              "    }\n",
              "\n",
              "    .dataframe tbody tr th {\n",
              "        vertical-align: top;\n",
              "    }\n",
              "\n",
              "    .dataframe thead th {\n",
              "        text-align: right;\n",
              "    }\n",
              "</style>\n",
              "<table border=\"1\" class=\"dataframe\">\n",
              "  <thead>\n",
              "    <tr style=\"text-align: right;\">\n",
              "      <th></th>\n",
              "      <th>Principal Component 1</th>\n",
              "      <th>Principal Component 2</th>\n",
              "      <th>y</th>\n",
              "    </tr>\n",
              "  </thead>\n",
              "  <tbody>\n",
              "    <tr>\n",
              "      <th>0</th>\n",
              "      <td>0.663892</td>\n",
              "      <td>0.006477</td>\n",
              "      <td>Receptionist</td>\n",
              "    </tr>\n",
              "    <tr>\n",
              "      <th>1</th>\n",
              "      <td>0.710901</td>\n",
              "      <td>0.003282</td>\n",
              "      <td>Receptionist</td>\n",
              "    </tr>\n",
              "    <tr>\n",
              "      <th>2</th>\n",
              "      <td>0.704728</td>\n",
              "      <td>-0.043793</td>\n",
              "      <td>Receptionist</td>\n",
              "    </tr>\n",
              "    <tr>\n",
              "      <th>3</th>\n",
              "      <td>0.685616</td>\n",
              "      <td>0.022754</td>\n",
              "      <td>Receptionist</td>\n",
              "    </tr>\n",
              "    <tr>\n",
              "      <th>4</th>\n",
              "      <td>0.688674</td>\n",
              "      <td>-0.016465</td>\n",
              "      <td>Receptionist</td>\n",
              "    </tr>\n",
              "  </tbody>\n",
              "</table>\n",
              "</div>"
            ],
            "text/plain": [
              "   Principal Component 1  Principal Component 2             y\n",
              "0               0.663892               0.006477  Receptionist\n",
              "1               0.710901               0.003282  Receptionist\n",
              "2               0.704728              -0.043793  Receptionist\n",
              "3               0.685616               0.022754  Receptionist\n",
              "4               0.688674              -0.016465  Receptionist"
            ]
          },
          "metadata": {
            "tags": []
          },
          "execution_count": 11
        }
      ]
    },
    {
      "cell_type": "code",
      "metadata": {
        "colab": {
          "base_uri": "https://localhost:8080/",
          "height": 611
        },
        "id": "04APx3tMv1EF",
        "outputId": "c0cc8134-fa51-40b6-ed01-065aca1aeaa1"
      },
      "source": [
        "#Plotting the points\n",
        "seaborn.set(style='darkgrid')\n",
        "\n",
        "plt.figure(figsize=(10,10))\n",
        "\n",
        "g=seaborn.scatterplot(x=\"Principal Component 1\", y=\"Principal Component 2\",\n",
        "                    hue=\"y\",style=\"y\",\n",
        "                    data=pca_plot_Df)"
      ],
      "execution_count": null,
      "outputs": [
        {
          "output_type": "display_data",
          "data": {
            "image/png": "[encoded data removed]",
            "text/plain": [
              "<Figure size 720x720 with 1 Axes>"
            ]
          },
          "metadata": {
            "tags": []
          }
        }
      ]
    },
    {
      "cell_type": "code",
      "metadata": {
        "colab": {
          "base_uri": "https://localhost:8080/"
        },
        "id": "zCyIK_Q6v3Wf",
        "outputId": "26612af7-2d19-4350-d898-ace7d4359bc6"
      },
      "source": [
        "#Checking for a Particular model, Sample data for Management-[0.2,0.85,0.9,0.2,0.6,0.3,0.06,0.3,0.4,0.1]\n",
        "print(\"Enter the 10 features\")\n",
        "row = []\n",
        "for i in range(10):\n",
        "  row.append(float(input()))"
      ],
      "execution_count": null,
      "outputs": [
        {
          "output_type": "stream",
          "text": [
            "Enter the 10 features\n",
            "0.2\n",
            "0.85\n",
            "0.9\n",
            "0.2\n",
            "0.6\n",
            "0.3\n",
            "0.06\n",
            "0.3\n",
            "0.4\n",
            "0.1\n"
          ],
          "name": "stdout"
        }
      ]
    },
    {
      "cell_type": "code",
      "metadata": {
        "colab": {
          "base_uri": "https://localhost:8080/"
        },
        "id": "s8wX9AjAv6HD",
        "outputId": "2e276d64-846a-41b9-bc1c-5b090a1c95ff"
      },
      "source": [
        "print(row)"
      ],
      "execution_count": null,
      "outputs": [
        {
          "output_type": "stream",
          "text": [
            "[0.2, 0.85, 0.9, 0.2, 0.6, 0.3, 0.06, 0.3, 0.4, 0.1]\n"
          ],
          "name": "stdout"
        }
      ]
    },
    {
      "cell_type": "code",
      "metadata": {
        "colab": {
          "base_uri": "https://localhost:8080/"
        },
        "id": "qEFrYRbfwFOf",
        "outputId": "62244d00-155c-4c11-c42e-66daef4f2863"
      },
      "source": [
        "#Predicting the label number\n",
        "label = prediction(X, row, num_neighbors)\n",
        "\n",
        "#Assigning the label number to its corresponding Class name  \n",
        "for i,j in zip(class_names.keys(),class_names.values()):\n",
        "  if j==label:\n",
        "    class_label=i\n",
        "\n",
        "print('So, with these features,the best suitable role for you is \"%s\"' % (class_label))"
      ],
      "execution_count": null,
      "outputs": [
        {
          "output_type": "stream",
          "text": [
            "So, with these features,the best suitable role for you is \"Management\"\n"
          ],
          "name": "stdout"
        }
      ]
    }
  ]
}